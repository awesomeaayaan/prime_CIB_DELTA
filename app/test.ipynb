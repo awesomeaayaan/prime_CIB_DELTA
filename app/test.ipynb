{
 "cells": [
  {
   "cell_type": "code",
   "execution_count": null,
   "metadata": {},
   "outputs": [],
   "source": [
    "filtered_df = pd.read_excel(r'D:\\BOT_Prime\\CIB_DELTA_back\\output\\filter.xlsx')"
   ]
  },
  {
   "cell_type": "code",
   "execution_count": null,
   "metadata": {},
   "outputs": [],
   "source": []
  },
  {
   "cell_type": "code",
   "execution_count": null,
   "metadata": {},
   "outputs": [],
   "source": []
  }
 ],
 "metadata": {
  "kernelspec": {
   "display_name": "Python 3.9.13 64-bit ('62521b0_b1f3c24_6cd60f16')",
   "language": "python",
   "name": "python3"
  },
  "language_info": {
   "name": "python",
   "version": "3.9.13"
  },
  "orig_nbformat": 4,
  "vscode": {
   "interpreter": {
    "hash": "20b722f5c8f8080cbc816cb942892c988588fdcbf7a76d666489cddf81c94841"
   }
  }
 },
 "nbformat": 4,
 "nbformat_minor": 2
}
