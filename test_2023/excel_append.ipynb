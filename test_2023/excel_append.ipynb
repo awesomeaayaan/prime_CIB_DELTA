{
 "cells": [
  {
   "cell_type": "code",
   "execution_count": 1,
   "metadata": {},
   "outputs": [],
   "source": [
    "import pandas as pd\n",
    "# New data to append\n",
    "new_data = {'Column1': [4, 5],\n",
    "            'Column2': ['D', 'E']}\n",
    "\n",
    "# Create a new DataFrame with the new data\n",
    "new_df = pd.DataFrame(new_data)"
   ]
  },
  {
   "cell_type": "code",
   "execution_count": 2,
   "metadata": {},
   "outputs": [],
   "source": [
    "new_df.to_excel('Excel.xlsx')"
   ]
  },
  {
   "cell_type": "code",
   "execution_count": 3,
   "metadata": {},
   "outputs": [],
   "source": [
    "file_path = r'D:\\BOT_Prime\\CIB_DELTA_back\\test_2023\\Excel.xlsx'\n",
    "existing_df = pd.read_excel(file_path)"
   ]
  },
  {
   "cell_type": "code",
   "execution_count": 5,
   "metadata": {},
   "outputs": [],
   "source": [
    "# New data to append\n",
    "new_data = {'Column1': [6, 7],\n",
    "            'Column2': ['F', 'G']}\n",
    "\n",
    "# Create a new DataFrame with the new data\n",
    "new_df = pd.DataFrame(new_data)\n",
    "\n",
    "# Concatenate the existing DataFrame and the new DataFrame\n",
    "updated_df = pd.concat([existing_df, new_df], ignore_index=True)\n",
    "\n",
    "# Write the updated DataFrame to the Excel file\n",
    "updated_df.to_excel(file_path, index=False)"
   ]
  },
  {
   "cell_type": "code",
   "execution_count": 10,
   "metadata": {},
   "outputs": [],
   "source": [
    "# import pandas as pd\n",
    "\n",
    "# # Step 3: Read existing Excel file\n",
    "# excel_file_path = r'D:\\BOT_Prime\\CIB_DELTA_back\\test_2023\\Excel.xlsx'\n",
    "# existing_df = pd.read_excel(excel_file_path)\n",
    "\n",
    "# # Step 4: Create new data\n",
    "# new_data = {'Column1': [4, 5],\n",
    "#             'Column2': ['D', 'E']}\n",
    "# new_df = pd.DataFrame(new_data)\n",
    "\n",
    "# # Check if the sheet exists\n",
    "# sheet_name = 'Sheet1'\n",
    "# if sheet_name in pd.ExcelFile(excel_file_path).sheet_names:\n",
    "#     # Append data to the existing sheet\n",
    "#     with pd.ExcelWriter(excel_file_path, engine='openpyxl', mode='a') as writer:\n",
    "#         new_df.to_excel(writer, sheet_name=sheet_name, index=False, header=False)\n",
    "# else:\n",
    "#     # Create a new sheet\n",
    "#     with pd.ExcelWriter(excel_file_path, engine='openpyxl', mode='a') as writer:\n",
    "#         new_df.to_excel(writer, sheet_name=sheet_name, index=False)\n",
    "\n"
   ]
  },
  {
   "cell_type": "code",
   "execution_count": 25,
   "metadata": {},
   "outputs": [],
   "source": [
    "# df = pd.DataFrame({'A': 1, 'B': 2})\n",
    "# df.to_excel('file.xlsx')\n",
    "new_data = {'branch_code': [1, 2,3],\n",
    "            'Name': ['Ram','Shyam','Hari']}\n",
    "\n",
    "df = pd.DataFrame(new_data)\n",
    "df.to_excel('files.xlsx',index=False)"
   ]
  },
  {
   "cell_type": "code",
   "execution_count": 26,
   "metadata": {},
   "outputs": [],
   "source": [
    "import os\n",
    "import openpyxl\n",
    "import pandas as pd\n",
    "from openpyxl.utils.dataframe import dataframe_to_rows\n",
    "\n",
    "file = r\"D:\\BOT_Prime\\CIB_DELTA_back\\test_2023\\files.xlsx\"\n",
    "\n",
    "new_data = {'branch_code': [4, 5],\n",
    "            'Name': ['Hari','Sita']}\n",
    "df = pd.DataFrame(new_data)\n",
    "\n",
    "# create excel file\n",
    "if os.path.isfile(file):  # if file already exists append to existing file\n",
    "    workbook = openpyxl.load_workbook(file)  # load workbook if already exists\n",
    "    sheet = workbook['Sheet1']  # declare the active sheet \n",
    "\n",
    "    # append the dataframe results to the current excel file\n",
    "    for row in dataframe_to_rows(df, header = False, index = False):\n",
    "        sheet.append(row)\n",
    "    workbook.save(file)  # save workbook\n",
    "    workbook.close()  # close workbook\n",
    "else:  # create the excel file if doesn't already exist\n",
    "    with pd.ExcelWriter(path = file, engine = 'openpyxl') as writer:\n",
    "        df.to_excel(writer, index = False, sheet_name = 'Sheet1')"
   ]
  },
  {
   "cell_type": "code",
   "execution_count": 23,
   "metadata": {},
   "outputs": [],
   "source": [
    "new_data = {'branch_code': [1, 2,3,4,5],\n",
    "            'compliance_mail': ['compliance1@gmail.com','compliance2@gmail.com','compliance3@gmail.com','compliance4@gmail.com','compliance5@gmail.com'],\n",
    "            'branch_mail': ['branch1@gmail.com','branch2@gmail.com','branch3@gmail.com','branch4@gmail.com','branch5@gmail.com']}"
   ]
  },
  {
   "cell_type": "code",
   "execution_count": 24,
   "metadata": {},
   "outputs": [],
   "source": [
    "branch_df = pd.DataFrame(new_data)\n",
    "branch_df.to_excel('Branch_detail.xlsx',index=False)"
   ]
  },
  {
   "cell_type": "code",
   "execution_count": 29,
   "metadata": {},
   "outputs": [
    {
     "data": {
      "text/html": [
       "<div>\n",
       "<style scoped>\n",
       "    .dataframe tbody tr th:only-of-type {\n",
       "        vertical-align: middle;\n",
       "    }\n",
       "\n",
       "    .dataframe tbody tr th {\n",
       "        vertical-align: top;\n",
       "    }\n",
       "\n",
       "    .dataframe thead th {\n",
       "        text-align: right;\n",
       "    }\n",
       "</style>\n",
       "<table border=\"1\" class=\"dataframe\">\n",
       "  <thead>\n",
       "    <tr style=\"text-align: right;\">\n",
       "      <th></th>\n",
       "      <th>branch_code</th>\n",
       "      <th>Name</th>\n",
       "    </tr>\n",
       "  </thead>\n",
       "  <tbody>\n",
       "    <tr>\n",
       "      <th>0</th>\n",
       "      <td>1</td>\n",
       "      <td>Ram</td>\n",
       "    </tr>\n",
       "  </tbody>\n",
       "</table>\n",
       "</div>"
      ],
      "text/plain": [
       "   branch_code Name\n",
       "0            1  Ram"
      ]
     },
     "execution_count": 29,
     "metadata": {},
     "output_type": "execute_result"
    }
   ],
   "source": [
    "df = pd.read_excel(r'D:\\BOT_Prime\\CIB_DELTA_back\\test_2023\\files.xlsx')\n",
    "df.head()"
   ]
  },
  {
   "cell_type": "code",
   "execution_count": 33,
   "metadata": {},
   "outputs": [
    {
     "data": {
      "text/plain": [
       "1"
      ]
     },
     "execution_count": 33,
     "metadata": {},
     "output_type": "execute_result"
    }
   ],
   "source": [
    "branch_value = df.loc[0, 'branch_code']\n",
    "branch_value"
   ]
  },
  {
   "cell_type": "code",
   "execution_count": 35,
   "metadata": {},
   "outputs": [],
   "source": [
    "df.to_excel(f'branch{branch_value}.xlsx')"
   ]
  },
  {
   "cell_type": "code",
   "execution_count": null,
   "metadata": {},
   "outputs": [],
   "source": []
  }
 ],
 "metadata": {
  "kernelspec": {
   "display_name": "Python 3.9.13 ('base')",
   "language": "python",
   "name": "python3"
  },
  "language_info": {
   "codemirror_mode": {
    "name": "ipython",
    "version": 3
   },
   "file_extension": ".py",
   "mimetype": "text/x-python",
   "name": "python",
   "nbconvert_exporter": "python",
   "pygments_lexer": "ipython3",
   "version": "3.9.13"
  },
  "orig_nbformat": 4,
  "vscode": {
   "interpreter": {
    "hash": "ad2bdc8ecc057115af97d19610ffacc2b4e99fae6737bb82f5d7fb13d2f2c186"
   }
  }
 },
 "nbformat": 4,
 "nbformat_minor": 2
}
